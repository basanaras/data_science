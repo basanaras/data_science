{
 "cells": [
  {
   "cell_type": "markdown",
   "id": "25ab42ab",
   "metadata": {},
   "source": [
    "## Notes from Kaggle's \"Pandas\" microcourse\n",
    "### Topic: Summary functions and maps\n",
    "\n"
   ]
  },
  {
   "cell_type": "code",
   "execution_count": null,
   "id": "76179f9f",
   "metadata": {},
   "outputs": [],
   "source": [
    "#Useful commands to summarize data: \n",
    "\n",
    "#Outputs descriptive statistics (many options for personalizing output)\n",
    "pd.DataFrame.describe() \n",
    "\n",
    "#List unique values \n",
    "pd.DataFrame.unique()\n",
    "\n",
    "#List the frequency of each unique value in a Series\n",
    "pd.Series.value_counts()"
   ]
  },
  {
   "cell_type": "markdown",
   "id": "a41c3b41",
   "metadata": {},
   "source": [
    "#### Maps: Function that takes one set of values and \"maps\" them to another set. \n",
    "\n",
    "* **Lambda** functions are useful. \n",
    "    * They are \"no-name\" functions that are contained in one line of code, and often used in map functions. \n",
    "    * Can take in any number of arguments, but only have one output \n",
    "    * Convenient when used inside another function \n",
    "\n",
    "Examples: \n",
    "\n",
    "1. add 10 to argument <span style=\"color:red\">a</span>, and return result:\n",
    "`x = lambda a : a + 10`\n",
    "2. multiply <span style=\"color:red\">a</span> and <span style=\"color:red\">b</span>: \n",
    "`x = lambda a, b: a * b`\n",
    "\n",
    "Used with `map`: <br />\n",
    "`review_points_mean = review.points.mean()` <br />\n",
    "`reviews.points.map(lambda p: p - review_points_mean)`<br />\n",
    "We are taking `points` and normalizing with respect to the mean, returning as variable `p`.\n",
    "\n",
    "One of the exercises in the Kaggle course: <br />\n",
    "\"Create a Series `descriptor_counts` counting how many times each of these two words appears in the `description` column in the dataset.\"\n",
    "\n"
   ]
  },
  {
   "cell_type": "code",
   "execution_count": null,
   "id": "dd128989",
   "metadata": {},
   "outputs": [],
   "source": [
    "count_tropical = reviews.description.map(lambda desc: 'tropical' in desc).sum()\n",
    "count_fruity = reviews.description.map(lambda desc: 'fruity' in desc).sum()\n",
    "descriptor_counts = pd.Series([count_tropical, count_fruity], index=['tropical', 'fruity'])"
   ]
  },
  {
   "cell_type": "markdown",
   "id": "1ae64db6",
   "metadata": {},
   "source": [
    "On the other hand, we can use `apply` when we require a customized method on each row. Easily seen by example:  \n",
    "\n",
    "*We'd like to host these wine reviews on our website, but a rating system ranging from 80 to 100 points is too hard to understand - we'd like to translate them into simple star ratings. A score of 95 or higher counts as 3 stars, a score of at least 85 but less than 95 is 2 stars. Any other score is 1 star.*\n",
    "\n",
    "*Also, the Canadian Vintners Association bought a lot of ads on the site, so any wines from Canada should automatically get 3 stars, regardless of points.*\n",
    "\n",
    "*Create a series `star_ratings` with the number of stars corresponding to each review in the dataset.*"
   ]
  },
  {
   "cell_type": "code",
   "execution_count": null,
   "id": "e3a2c40c",
   "metadata": {},
   "outputs": [],
   "source": [
    "#Solution 1 using apply()\n",
    "def stars(row):\n",
    "    if row.country == 'Canada':\n",
    "        return 3\n",
    "    elif row.points >= 95:\n",
    "        return 3\n",
    "    elif row.points >= 85: \n",
    "        return 2\n",
    "    else:\n",
    "        return 1\n",
    "    \n",
    "star_ratings = reviews.apply(stars, axis='columns')"
   ]
  },
  {
   "cell_type": "code",
   "execution_count": null,
   "id": "498236ab",
   "metadata": {},
   "outputs": [],
   "source": [
    "#Solution 2 using map()\n",
    "star_ratings = reviews.points.map(lambda x: 3 if x >= 95 else (1 if x < 85 else 2 ))"
   ]
  }
 ],
 "metadata": {
  "kernelspec": {
   "display_name": "Python 3 (ipykernel)",
   "language": "python",
   "name": "python3"
  },
  "language_info": {
   "codemirror_mode": {
    "name": "ipython",
    "version": 3
   },
   "file_extension": ".py",
   "mimetype": "text/x-python",
   "name": "python",
   "nbconvert_exporter": "python",
   "pygments_lexer": "ipython3",
   "version": "3.9.10"
  }
 },
 "nbformat": 4,
 "nbformat_minor": 5
}
