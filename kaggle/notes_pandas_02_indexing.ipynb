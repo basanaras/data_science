{
 "cells": [
  {
   "cell_type": "markdown",
   "id": "25ab42ab",
   "metadata": {},
   "source": [
    "## Notes from Kaggle's \"Pandas\" microcourse\n",
    "### Topic: Indexing, Selecting, and Assigning"
   ]
  },
  {
   "cell_type": "markdown",
   "id": "07686b24",
   "metadata": {},
   "source": [
    "Native Python objects provide accessible ways of indexing data. \n",
    "\n",
    "Consider the DataFrame `reviews` with an attribute of `country`. We can access the property of this column with: `reviews.country` or `reviews['country']`. We are effectively selecting a Series from the DataFrame. \n",
    "\n",
    "If we want one entry from the `country` column, we can do: `reviews['country'][0]`. \n",
    "\n",
    "Attribute selection follows the \"row-first, column-second\" rule using `iloc` and `loc`."
   ]
  },
  {
   "cell_type": "code",
   "execution_count": null,
   "id": "cc04a2a9",
   "metadata": {},
   "outputs": [],
   "source": [
    "#Index-based selection (iloc)\n",
    "\n",
    "#Selecting the first row of data in a DataFrame:\n",
    "reviews.iloc[0]\n",
    "\n",
    "#Selecting the first column of data in a DataFrame: \n",
    "reviews.iloc[:, 0]\n",
    "\n",
    "#Selecting first-second-third row from country column: \n",
    "reviews.iloc[:3, 0]\n",
    "#Note: this selects rows 0-2 (up to, but excluding, row 3)\n",
    "\n",
    "#Select only second-third entry from country column: \n",
    "reviews.iloc[1:3, 0] \n",
    "\n",
    "#or we  can pass a list: \n",
    "reviews.iloc[[1, 2], 0]\n",
    "\n",
    "#Negative numbers can be used. \n",
    "#Start counting forwards for the *end* of values. \n",
    "reviews.iloc[-5:] #Last five elements (rows) of the dataset"
   ]
  },
  {
   "cell_type": "code",
   "execution_count": null,
   "id": "e3bcaccb",
   "metadata": {},
   "outputs": [],
   "source": [
    "#Label-based selection (loc). Use the 'data-index' value. \n",
    "#Easier when you do not know the attribute index number, but you know the name. \n",
    "\n",
    "#First entry in country:\n",
    "reviews.loc[0, 'country']\n",
    "\n",
    "#Select columns with given header names\n",
    "reviews.loc[:, ['taster_name', 'taster_twitter_handle', 'points']]    "
   ]
  },
  {
   "cell_type": "markdown",
   "id": "52c1f43e",
   "metadata": {},
   "source": [
    "### Subtleties to keep in mind\n",
    "\n",
    "* `iloc`: Uses the Python stdlib indexing scheme\n",
    "    * First element of range is included, and last is excluded\n",
    "* `loc`: Indexes inclusively instead. \n",
    "\n",
    "#### Conditionals (and, or, isin, isnull):"
   ]
  },
  {
   "cell_type": "code",
   "execution_count": null,
   "id": "2c33d5f1",
   "metadata": {},
   "outputs": [],
   "source": [
    "#Using conditional selection to filter\n",
    "reviews.country == 'Italy'\n",
    "#Returns country column with True/False entries\n",
    "\n",
    "#Only return rows where country == 'Italy'\n",
    "reviews.loc[reviews.country =='Italy']\n",
    "\n",
    "# AND / OR CONDITIONALS \n",
    "#Can compound conditionals use AND (&) / OR (|)\n",
    "reviews.loc[(reviews.country == 'Italy') & (reviews.points >= 90)]\n",
    "reviews.loc[(reviews.country == 'Italy') | (reviews.points >= 90)]\n",
    "\n",
    "# BUILT-IN CONDITIONALS \n",
    "# IS IN? Can be reproduced using 'OR' command\n",
    "reviews.loc[reviews.country.isin(['Italy', 'France'])]\n",
    "\n",
    "# NOT EMPTY: notnull\n",
    "reviews.loc[reviews.price.notnull()]\n",
    "#Returns rows which price entry is not empty "
   ]
  }
 ],
 "metadata": {
  "kernelspec": {
   "display_name": "Python 3 (ipykernel)",
   "language": "python",
   "name": "python3"
  },
  "language_info": {
   "codemirror_mode": {
    "name": "ipython",
    "version": 3
   },
   "file_extension": ".py",
   "mimetype": "text/x-python",
   "name": "python",
   "nbconvert_exporter": "python",
   "pygments_lexer": "ipython3",
   "version": "3.9.10"
  }
 },
 "nbformat": 4,
 "nbformat_minor": 5
}
