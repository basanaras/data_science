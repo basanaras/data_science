{
 "cells": [
  {
   "cell_type": "markdown",
   "id": "25ab42ab",
   "metadata": {},
   "source": [
    "## Notes from Kaggle's \"Pandas\" microcourse"
   ]
  },
  {
   "cell_type": "code",
   "execution_count": 4,
   "id": "eaa32c8a",
   "metadata": {},
   "outputs": [],
   "source": [
    "import pandas as pd"
   ]
  },
  {
   "cell_type": "markdown",
   "id": "07686b24",
   "metadata": {},
   "source": [
    "There are two core objects in pandas: the *DataFrame* and the *Series*. \n",
    "\n",
    "**DataFrame**: Table that consists of an array of individual *entries*, each of which have a certain *value*. Each entry corresponds to a row (or *record*) and a *column*. \n",
    "\n",
    "Creating a DataFrame is similar to creating a dictionary, whose keys are the column names and whose values are a list of entries:"
   ]
  },
  {
   "cell_type": "code",
   "execution_count": 5,
   "id": "994743b2",
   "metadata": {},
   "outputs": [
    {
     "data": {
      "text/html": [
       "<div>\n",
       "<style scoped>\n",
       "    .dataframe tbody tr th:only-of-type {\n",
       "        vertical-align: middle;\n",
       "    }\n",
       "\n",
       "    .dataframe tbody tr th {\n",
       "        vertical-align: top;\n",
       "    }\n",
       "\n",
       "    .dataframe thead th {\n",
       "        text-align: right;\n",
       "    }\n",
       "</style>\n",
       "<table border=\"1\" class=\"dataframe\">\n",
       "  <thead>\n",
       "    <tr style=\"text-align: right;\">\n",
       "      <th></th>\n",
       "      <th>Bob</th>\n",
       "      <th>Sue</th>\n",
       "    </tr>\n",
       "  </thead>\n",
       "  <tbody>\n",
       "    <tr>\n",
       "      <th>0</th>\n",
       "      <td>Yes</td>\n",
       "      <td>Yes</td>\n",
       "    </tr>\n",
       "    <tr>\n",
       "      <th>1</th>\n",
       "      <td>No</td>\n",
       "      <td>Maybe</td>\n",
       "    </tr>\n",
       "  </tbody>\n",
       "</table>\n",
       "</div>"
      ],
      "text/plain": [
       "   Bob    Sue\n",
       "0  Yes    Yes\n",
       "1   No  Maybe"
      ]
     },
     "execution_count": 5,
     "metadata": {},
     "output_type": "execute_result"
    }
   ],
   "source": [
    "pd.DataFrame({'Bob': ['Yes', 'No'], 'Sue': ['Yes', \"Maybe\"]})"
   ]
  },
  {
   "cell_type": "code",
   "execution_count": 6,
   "id": "5d22479a",
   "metadata": {},
   "outputs": [
    {
     "data": {
      "text/html": [
       "<div>\n",
       "<style scoped>\n",
       "    .dataframe tbody tr th:only-of-type {\n",
       "        vertical-align: middle;\n",
       "    }\n",
       "\n",
       "    .dataframe tbody tr th {\n",
       "        vertical-align: top;\n",
       "    }\n",
       "\n",
       "    .dataframe thead th {\n",
       "        text-align: right;\n",
       "    }\n",
       "</style>\n",
       "<table border=\"1\" class=\"dataframe\">\n",
       "  <thead>\n",
       "    <tr style=\"text-align: right;\">\n",
       "      <th></th>\n",
       "      <th>Bob</th>\n",
       "      <th>Sue</th>\n",
       "    </tr>\n",
       "  </thead>\n",
       "  <tbody>\n",
       "    <tr>\n",
       "      <th>Product A</th>\n",
       "      <td>Yes</td>\n",
       "      <td>Yes</td>\n",
       "    </tr>\n",
       "    <tr>\n",
       "      <th>Product B</th>\n",
       "      <td>No</td>\n",
       "      <td>Maybe</td>\n",
       "    </tr>\n",
       "  </tbody>\n",
       "</table>\n",
       "</div>"
      ],
      "text/plain": [
       "           Bob    Sue\n",
       "Product A  Yes    Yes\n",
       "Product B   No  Maybe"
      ]
     },
     "execution_count": 6,
     "metadata": {},
     "output_type": "execute_result"
    }
   ],
   "source": [
    "#To replace the indices with *row labels*:\n",
    "pd.DataFrame({'Bob': ['Yes', 'No'], 'Sue': ['Yes', 'Maybe']}, index=['Product A', 'Product B'])"
   ]
  },
  {
   "cell_type": "code",
   "execution_count": 8,
   "id": "a2ab0766",
   "metadata": {},
   "outputs": [
    {
     "data": {
      "text/html": [
       "<div>\n",
       "<style scoped>\n",
       "    .dataframe tbody tr th:only-of-type {\n",
       "        vertical-align: middle;\n",
       "    }\n",
       "\n",
       "    .dataframe tbody tr th {\n",
       "        vertical-align: top;\n",
       "    }\n",
       "\n",
       "    .dataframe thead th {\n",
       "        text-align: right;\n",
       "    }\n",
       "</style>\n",
       "<table border=\"1\" class=\"dataframe\">\n",
       "  <thead>\n",
       "    <tr style=\"text-align: right;\">\n",
       "      <th></th>\n",
       "      <th>Bob</th>\n",
       "      <th>Sue</th>\n",
       "    </tr>\n",
       "  </thead>\n",
       "  <tbody>\n",
       "    <tr>\n",
       "      <th>Product A</th>\n",
       "      <td>Yes</td>\n",
       "      <td>Yes</td>\n",
       "    </tr>\n",
       "    <tr>\n",
       "      <th>Product B</th>\n",
       "      <td>No</td>\n",
       "      <td>Maybe</td>\n",
       "    </tr>\n",
       "  </tbody>\n",
       "</table>\n",
       "</div>"
      ],
      "text/plain": [
       "           Bob    Sue\n",
       "Product A  Yes    Yes\n",
       "Product B   No  Maybe"
      ]
     },
     "execution_count": 8,
     "metadata": {},
     "output_type": "execute_result"
    }
   ],
   "source": [
    "#Can also output the same DataFrame using this formatting, \n",
    "#[List of rows], columns = [], index=[]\n",
    "pd.DataFrame([['Yes', 'Yes'], ['No', 'Maybe']], columns=['Bob', 'Sue'], index=['Product A', 'Product B'])"
   ]
  },
  {
   "cell_type": "markdown",
   "id": "ccf3f2ed",
   "metadata": {},
   "source": [
    "**Series**: Sequence of data values (like a list), with only one column of entries. "
   ]
  },
  {
   "cell_type": "code",
   "execution_count": 9,
   "id": "8f4abd25",
   "metadata": {},
   "outputs": [
    {
     "data": {
      "text/plain": [
       "0    1\n",
       "1    2\n",
       "2    3\n",
       "dtype: int64"
      ]
     },
     "execution_count": 9,
     "metadata": {},
     "output_type": "execute_result"
    }
   ],
   "source": [
    "pd.Series([1, 2, 3])"
   ]
  },
  {
   "cell_type": "code",
   "execution_count": 10,
   "id": "252fd3a1",
   "metadata": {},
   "outputs": [
    {
     "data": {
      "text/plain": [
       "Look      1\n",
       "What I    2\n",
       "Can Do    3\n",
       "Name: Test Series, dtype: int64"
      ]
     },
     "execution_count": 10,
     "metadata": {},
     "output_type": "execute_result"
    }
   ],
   "source": [
    "#Can rename the indices with row labels with an overall name: \n",
    "pd.Series([1, 2, 3], index=['Look', 'What I', 'Can Do'], name='Test Series')"
   ]
  },
  {
   "cell_type": "markdown",
   "id": "cd53a146",
   "metadata": {},
   "source": [
    "<br>\n",
    "Reading data files & other useful commands: "
   ]
  },
  {
   "cell_type": "code",
   "execution_count": null,
   "id": "8bd92cff",
   "metadata": {},
   "outputs": [],
   "source": [
    "#Import csv file \n",
    "data = pd.read_csv('...')\n",
    "\n",
    "#Shape of DataFrame\n",
    "data.shape \n",
    "\n",
    "#First five lines, unless otherwise indiciated \n",
    "data.head() \n",
    "\n",
    "#Save DataFrame as csv\n",
    "pd.data.to_csv('filename.csv')"
   ]
  }
 ],
 "metadata": {
  "kernelspec": {
   "display_name": "Python 3 (ipykernel)",
   "language": "python",
   "name": "python3"
  },
  "language_info": {
   "codemirror_mode": {
    "name": "ipython",
    "version": 3
   },
   "file_extension": ".py",
   "mimetype": "text/x-python",
   "name": "python",
   "nbconvert_exporter": "python",
   "pygments_lexer": "ipython3",
   "version": "3.9.10"
  }
 },
 "nbformat": 4,
 "nbformat_minor": 5
}
